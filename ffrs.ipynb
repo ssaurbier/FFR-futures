{
 "cells": [
  {
   "cell_type": "code",
   "execution_count": 5,
   "id": "5237e9de-0521-4566-8105-7f6334cec5b1",
   "metadata": {},
   "outputs": [],
   "source": [
    "import pandas as pd\n",
    "import numpy as np\n",
    "import warnings\n",
    "warnings.filterwarnings(\"ignore\")\n",
    "\n",
    "import statsmodels.api as sm\n",
    "import matplotlib.pyplot as plt\n",
    "from statsmodels.tsa.stattools import adfuller"
   ]
  },
  {
   "cell_type": "code",
   "execution_count": 2,
   "id": "83294e76-3d6c-4515-9523-0a1a7e28a476",
   "metadata": {},
   "outputs": [
    {
     "name": "stdout",
     "output_type": "stream",
     "text": [
      "README.md       credentials.py  creds.py        ffrs.ipynb\n"
     ]
    }
   ],
   "source": [
    "ls"
   ]
  },
  {
   "cell_type": "code",
   "execution_count": 6,
   "id": "5b3292c7-fb5d-4b56-beda-967b6615f0ad",
   "metadata": {},
   "outputs": [],
   "source": [
    "import os\n",
    "import requests\n",
    "import credentials\n",
    "\n",
    "# FRED api url with series id\n",
    "url = 'https://api.stlouisfed.org/fred/series/observations?series_id=EFFR&api_key=' + credentials.apikey + '&file_type=json'\n",
    "\n",
    "# make call to FRED api\n",
    "response = requests.get(url)\n",
    "\n",
    "# convert response to json\n",
    "data = response.json()\n",
    "\n",
    "# convert json to a pandas dataframe\n",
    "ffr = pd.DataFrame(data['observations'])\n",
    "\n",
    "# cleanup\n",
    "ffr = ffr[ffr.date > '2022-04-06']\n",
    "ffr = ffr [['date', 'value']]\n",
    "ffr = ffr.rename(columns = {'value': 'DFF', 'date': 'Date'})\n",
    "ffr = ffr.reset_index(drop = True)\n",
    "ffr.DFF = pd.to_numeric(ffr.DFF.str.replace(\".\", \"\"), errors='coerce')\n"
   ]
  },
  {
   "cell_type": "code",
   "execution_count": 27,
   "id": "6a481297-a477-4792-b523-9770289d1e1d",
   "metadata": {},
   "outputs": [],
   "source": [
    "import requests\n",
    "from bs4 import BeautifulSoup\n",
    "\n",
    "# URL to webscrape\n",
    "url = 'https://www.cmegroup.com/markets/interest-rates/cme-fedwatch-tool.html'"
   ]
  },
  {
   "cell_type": "code",
   "execution_count": null,
   "id": "c9d4e4cd-f6c8-41bb-94e9-bbf49eb129a8",
   "metadata": {},
   "outputs": [],
   "source": [
    "from selenium.webdriver.common.by import By\n",
    "from selenium.webdriver.support.ui import WebDriverWait\n",
    "from selenium.webdriver.support import expected_conditions as EC\n",
    "from selenium.webdriver.common.keys import Keys\n",
    "from selenium.common.exceptions import TimeoutException\n",
    "from selenium.webdriver.common.action_chains import ActionChains\n",
    "from selenium import webdriver\n",
    "import time\n",
    "\n",
    "driver = webdriver.Chrome(executable_path='C:/temp/chromedriver.exe')\n",
    "driver.set_page_load_timeout(300)\n",
    "\n",
    "driver.get(\"https://www.cmegroup.com/trading/interest-rates/countdown-to-fomc.html\")\n",
    "\n",
    "time.sleep(2)\n",
    "\n",
    "driver.switch_to.frame(driver.find_element(By.TAG_NAME,\"iframe\"))\n",
    "driver.execute_script(\"window.scrollTo(0, document.body.scrollHeight);\")\n",
    "time.sleep(2)\n",
    "element = driver.find_element(By.LINK_TEXT, \"Downloads\")\n",
    "driver.execute_script(\"arguments[0].click();\", element)\n",
    "\n",
    "time.sleep(2)\n",
    "\n",
    "links = driver.find_elements(By.TAG_NAME, \"a\")\n",
    "\n",
    "data = {}\n",
    "for link in links:\n",
    "    data[link.text] = link.get_attribute('href')\n",
    "    \n",
    "driver.quit()\n"
   ]
  },
  {
   "cell_type": "code",
   "execution_count": null,
   "id": "bcd49a49-5451-46d0-80c5-14f902461f36",
   "metadata": {},
   "outputs": [],
   "source": [
    "data"
   ]
  },
  {
   "cell_type": "code",
   "execution_count": null,
   "id": "caaef677-dc45-4d8d-8dfc-fdcf12627d9c",
   "metadata": {},
   "outputs": [],
   "source": [
    "reports = {}\n",
    "for k,v in data.items():\n",
    "    if '20' in k:\n",
    "        reports[k] = v"
   ]
  },
  {
   "cell_type": "code",
   "execution_count": null,
   "id": "d8ea8495-076b-4752-a7df-5aa32b0c7e83",
   "metadata": {},
   "outputs": [],
   "source": [
    "dfs = {}\n",
    "for key, url in reports.items():\n",
    "    dfs[key] = pd.read_csv(url)\n",
    "    dfs[key]['contract'] = key"
   ]
  },
  {
   "cell_type": "code",
   "execution_count": null,
   "id": "dd040e11-f99a-4b4d-9345-afe72cbfb310",
   "metadata": {},
   "outputs": [],
   "source": [
    "for k,v in dfs.items():\n",
    "    print(len(v))"
   ]
  },
  {
   "cell_type": "code",
   "execution_count": null,
   "id": "368e6668-3f05-498f-8702-a36bac5ec656",
   "metadata": {},
   "outputs": [],
   "source": [
    "len(dfs)"
   ]
  },
  {
   "cell_type": "code",
   "execution_count": null,
   "id": "2535aafc-90f1-4e1e-9644-e95e934d6524",
   "metadata": {},
   "outputs": [],
   "source": [
    "df = pd.concat([i for i in dfs.values()])"
   ]
  },
  {
   "cell_type": "code",
   "execution_count": null,
   "id": "5d2a5caf-1681-44d1-b461-e3ee8fc37399",
   "metadata": {},
   "outputs": [],
   "source": [
    "df.sort_values(by = 'Date', ascending = True)"
   ]
  },
  {
   "cell_type": "code",
   "execution_count": null,
   "id": "c288aaaa-4f99-48db-90d9-14d058cdd0b8",
   "metadata": {},
   "outputs": [],
   "source": [
    "df = df[df['Date'].notna()]"
   ]
  },
  {
   "cell_type": "code",
   "execution_count": null,
   "id": "e780fdad-7612-4e69-ada5-5b975e8cd9b0",
   "metadata": {},
   "outputs": [],
   "source": [
    "rates = [i for i in df.columns if i != 'Date' and i != 'contract']"
   ]
  },
  {
   "cell_type": "code",
   "execution_count": null,
   "id": "a84b7049-6f34-4c91-b398-17ba691b94c0",
   "metadata": {},
   "outputs": [],
   "source": [
    "rateset = list(set(rates))"
   ]
  },
  {
   "cell_type": "code",
   "execution_count": null,
   "id": "059c452e-a396-490f-8af5-073cff69fe6c",
   "metadata": {},
   "outputs": [],
   "source": [
    "ratevals = []\n",
    "for i in rates:\n",
    "    a = i.replace('(', \"\").replace(\")\",\"\").split('-')[0]\n",
    "    if float(a) < 25:\n",
    "        a = float(a) * 1000\n",
    "    \n",
    "    b = i.replace('(', \"\").replace(\")\",\"\").split('-')[1]\n",
    "    if float(b) < 25:\n",
    "        b = float(b) * 1000\n",
    "\n",
    "    val = (int(a) + int(b)) / 2\n",
    "    ratevals.append(str(val))"
   ]
  },
  {
   "cell_type": "code",
   "execution_count": null,
   "id": "2b2e7a3a-baf2-4c0e-b9a7-4c9df25fb1ad",
   "metadata": {},
   "outputs": [],
   "source": [
    "rename = dict(zip(rates, ratevals))"
   ]
  },
  {
   "cell_type": "code",
   "execution_count": null,
   "id": "60c02588-c10b-4f9a-81ce-263cceafb897",
   "metadata": {},
   "outputs": [],
   "source": [
    "ffr['Date'] =  pd.to_datetime(ffr['Date'], infer_datetime_format=True)\n",
    "df['Date'] =  pd.to_datetime(df['Date'], infer_datetime_format=True)\n",
    "df['contract'] =  pd.to_datetime(df['contract'], infer_datetime_format=True)"
   ]
  },
  {
   "cell_type": "code",
   "execution_count": null,
   "id": "a7a258f2-e4f7-489d-8881-9ddf7d3d671d",
   "metadata": {},
   "outputs": [],
   "source": [
    "df.rename(columns = rename, inplace = True)"
   ]
  },
  {
   "cell_type": "code",
   "execution_count": null,
   "id": "aa7a5208-7259-4b51-b6fe-5030a27a8006",
   "metadata": {},
   "outputs": [],
   "source": [
    "df.columns.sort_values()"
   ]
  },
  {
   "cell_type": "code",
   "execution_count": null,
   "id": "2d378da6-169a-4826-bc32-3f8998d8bec8",
   "metadata": {},
   "outputs": [],
   "source": [
    "df = df.reindex(sorted(df.columns), axis=1)"
   ]
  },
  {
   "cell_type": "code",
   "execution_count": null,
   "id": "7e5be28d-dd67-4d8d-bc33-74e2422966c6",
   "metadata": {},
   "outputs": [],
   "source": [
    "df = df.join(ffr.set_index('Date'), on='Date')"
   ]
  },
  {
   "cell_type": "code",
   "execution_count": null,
   "id": "9a3183f3-a928-46cf-9358-8bc07b6fd8f1",
   "metadata": {},
   "outputs": [],
   "source": [
    "df.sort_values(by = 'Date', ascending = True)"
   ]
  },
  {
   "cell_type": "code",
   "execution_count": null,
   "id": "4ff1098d-9388-463a-9e73-258c913e9321",
   "metadata": {},
   "outputs": [],
   "source": [
    "import yfinance as yf\n",
    "btc = yf.download('BTC-USD', start='2022-04-07', end='2023-04-06')"
   ]
  },
  {
   "cell_type": "code",
   "execution_count": null,
   "id": "389bca3d-24c1-45e6-89c5-68d185d26ff9",
   "metadata": {},
   "outputs": [],
   "source": [
    "btc.drop(columns = [i for i in btc.columns if i != 'Open' and i!= 'Volume'], inplace = True)"
   ]
  },
  {
   "cell_type": "code",
   "execution_count": null,
   "id": "9c3af1cd-6cff-4417-9f73-287e97f0d39e",
   "metadata": {},
   "outputs": [],
   "source": [
    "btc.rename(columns = {'Open': 'btcopen', 'Volume':'btcvolume'}, inplace = True)"
   ]
  },
  {
   "cell_type": "code",
   "execution_count": null,
   "id": "dc339557-95aa-45c0-8a83-89ac6e013717",
   "metadata": {},
   "outputs": [],
   "source": [
    "df"
   ]
  },
  {
   "cell_type": "code",
   "execution_count": null,
   "id": "3f3f543d-e9cb-4277-8368-5664017e90dc",
   "metadata": {},
   "outputs": [],
   "source": [
    "btc['Date'] =  pd.to_datetime(btc.index, infer_datetime_format=True)"
   ]
  },
  {
   "cell_type": "code",
   "execution_count": null,
   "id": "6c5eee83-0586-4d85-8656-897a2577101e",
   "metadata": {},
   "outputs": [],
   "source": [
    "df = df.join(btc.set_index('Date'), on='Date')"
   ]
  },
  {
   "cell_type": "code",
   "execution_count": null,
   "id": "b7d8c416-fb91-4e9f-bf62-097ae8fb97cf",
   "metadata": {},
   "outputs": [],
   "source": [
    "df[df.Date == '2023-03-07']"
   ]
  },
  {
   "cell_type": "code",
   "execution_count": null,
   "id": "3429782d-2d77-4936-b382-4013b0c8fbb2",
   "metadata": {},
   "outputs": [],
   "source": [
    "df.contract.value_counts()"
   ]
  },
  {
   "cell_type": "code",
   "execution_count": null,
   "id": "0736a7eb-545d-4593-a346-7886cc127a9d",
   "metadata": {},
   "outputs": [],
   "source": [
    "for i in df.iloc[:, :83].columns:\n",
    "    i = float(i)"
   ]
  },
  {
   "cell_type": "code",
   "execution_count": null,
   "id": "c206f17d-b52f-4dd9-bdcc-c6a447b69c98",
   "metadata": {},
   "outputs": [],
   "source": [
    "df['Date'] =  pd.to_datetime(df['Date'], infer_datetime_format=True)"
   ]
  },
  {
   "cell_type": "code",
   "execution_count": null,
   "id": "62ed916f-aab8-44d1-a1fa-caec8c5aac7f",
   "metadata": {},
   "outputs": [],
   "source": [
    "df.iloc[:, :83] = df.iloc[:, :83].applymap(pd.to_numeric, errors='coerce')"
   ]
  },
  {
   "cell_type": "code",
   "execution_count": null,
   "id": "20b7334e-8ef9-405b-bef6-63319e7cc4dd",
   "metadata": {},
   "outputs": [],
   "source": [
    "df.columns = [float(i) if isinstance(i, str) and i in ratevals else i for i in df.columns]"
   ]
  },
  {
   "cell_type": "code",
   "execution_count": null,
   "id": "1906042e-f355-4a09-8e27-d76dd55f564d",
   "metadata": {},
   "outputs": [],
   "source": [
    "ratevals = [float(i) for i in ratevals]"
   ]
  },
  {
   "cell_type": "code",
   "execution_count": null,
   "id": "ec828bd1-3a0a-4ab7-b840-d61f1627cfd7",
   "metadata": {
    "tags": []
   },
   "outputs": [],
   "source": [
    "df['mean'] = df[ratevals].apply(lambda x: x*df[ratevals].columns.values, axis=1).sum(axis=1)"
   ]
  },
  {
   "cell_type": "code",
   "execution_count": null,
   "id": "61a1d7f9-5c57-4054-9554-2ca8b4a01429",
   "metadata": {},
   "outputs": [],
   "source": [
    "df.sort_values(by = 'mean', ascending = False)"
   ]
  },
  {
   "cell_type": "code",
   "execution_count": null,
   "id": "52388bad-9d22-43f7-90ff-129fd2f0d641",
   "metadata": {},
   "outputs": [],
   "source": [
    "df"
   ]
  },
  {
   "cell_type": "code",
   "execution_count": null,
   "id": "b0f7db66-3fb2-4016-83c7-347ff957eeda",
   "metadata": {},
   "outputs": [],
   "source": [
    "df.iloc[:, 83:89]"
   ]
  },
  {
   "cell_type": "code",
   "execution_count": null,
   "id": "d0573577-4e3c-4998-b745-d802e20ec63f",
   "metadata": {},
   "outputs": [],
   "source": [
    "smalldf = df.iloc[:, 83:89]"
   ]
  },
  {
   "cell_type": "code",
   "execution_count": null,
   "id": "f08e1908-3d81-49ca-b4d6-7d442c2514de",
   "metadata": {},
   "outputs": [],
   "source": [
    "smalldf.dropna(inplace = True)"
   ]
  },
  {
   "cell_type": "code",
   "execution_count": null,
   "id": "d2dd94dd-b07e-4bb1-9cea-ec78a9a7b9af",
   "metadata": {},
   "outputs": [],
   "source": [
    "smalldf"
   ]
  },
  {
   "cell_type": "code",
   "execution_count": null,
   "id": "896f5376-a87e-4c4d-9250-dd682f92d029",
   "metadata": {},
   "outputs": [],
   "source": [
    "smalldf.plot.scatter('Date', 'DFF');"
   ]
  },
  {
   "cell_type": "code",
   "execution_count": null,
   "id": "bfbd7f7a-cab6-495e-b018-83047e6ea924",
   "metadata": {},
   "outputs": [],
   "source": [
    "smalldf.plot.scatter('Date', 'mean');"
   ]
  },
  {
   "cell_type": "code",
   "execution_count": null,
   "id": "de5c5f4a-c9a7-4866-be00-272416a9e844",
   "metadata": {},
   "outputs": [],
   "source": [
    "new_df = df.pivot(index='Date', columns='contract', values='mean')\n",
    "\n",
    "new_df = new_df.join(ffr.set_index('Date'), on='Date')"
   ]
  },
  {
   "cell_type": "code",
   "execution_count": null,
   "id": "bd4c4685-c7b9-431a-b34c-ae5ea7038728",
   "metadata": {},
   "outputs": [],
   "source": [
    "[i for i in new_df.columns if i != 'DFF']"
   ]
  },
  {
   "cell_type": "code",
   "execution_count": null,
   "id": "d4480221-39ba-4131-97bd-782b73a2a138",
   "metadata": {},
   "outputs": [],
   "source": [
    "import seaborn as sns\n",
    "sns.heatmap(new_df[[i for i in new_df.columns if i != 'DFF']]);"
   ]
  },
  {
   "cell_type": "code",
   "execution_count": null,
   "id": "d29eabab-46cd-499f-a6ff-bb6ae44fd227",
   "metadata": {},
   "outputs": [],
   "source": [
    "import plotly.graph_objects as go"
   ]
  },
  {
   "cell_type": "code",
   "execution_count": null,
   "id": "74006668-fe14-4a5b-bdce-f4c14d93e1de",
   "metadata": {
    "tags": []
   },
   "outputs": [],
   "source": [
    "x = [i for i in new_df.columns if i != 'DFF']\n",
    "y = new_df.index\n",
    "z = new_df.to_numpy()\n",
    "\n",
    "fig = go.Figure(data=[go.Surface(z=z, x=x, y=y)])\n",
    "fig.update_layout(title='FFR Curves',\n",
    "                  width = 1200,\n",
    "                  height = 1200,\n",
    "                  scene = {\"aspectratio\": {\"x\": 1, \"y\": 1, \"z\": .6}})\n",
    "fig.update_coloraxes(cauto=True)\n",
    "#fig.update_coloraxes(cmax=2000)\n",
    "#fig.update_coloraxes(cmin=2000)\n",
    "fig.show()"
   ]
  },
  {
   "cell_type": "markdown",
   "id": "5e131d6d-57cf-4bf6-9ede-f957ae8c1928",
   "metadata": {},
   "source": [
    "# Cohorting"
   ]
  },
  {
   "cell_type": "code",
   "execution_count": null,
   "id": "7c7a8331-0dc3-4562-9451-3d4c8c35909c",
   "metadata": {},
   "outputs": [],
   "source": [
    "contractvals = sorted(list({i for i in df.contract}))"
   ]
  },
  {
   "cell_type": "code",
   "execution_count": null,
   "id": "27a9a1a0-a213-4370-8cc3-08e0d7a5a890",
   "metadata": {},
   "outputs": [],
   "source": [
    "contractvals"
   ]
  },
  {
   "cell_type": "code",
   "execution_count": null,
   "id": "0f5a4095-89f8-4c5b-ab7a-8a7e287d0ddf",
   "metadata": {},
   "outputs": [],
   "source": [
    "smalldf2 = smalldf\n",
    "smalldf2['dtm'] = (smalldf2.contract - smalldf2.Date)"
   ]
  },
  {
   "cell_type": "code",
   "execution_count": null,
   "id": "4d7c1f59-3859-4f66-b5d8-ef3dae62009f",
   "metadata": {},
   "outputs": [],
   "source": [
    "smalldf2"
   ]
  },
  {
   "cell_type": "code",
   "execution_count": null,
   "id": "238aa458-699f-4315-8c4c-84d20bca7466",
   "metadata": {},
   "outputs": [],
   "source": [
    "from datetime import datetime\n",
    "smalldf2.dtm = smalldf2.dtm.dt.days"
   ]
  },
  {
   "cell_type": "code",
   "execution_count": null,
   "id": "f983a984-66a4-4ff8-b56f-2626061366cf",
   "metadata": {},
   "outputs": [],
   "source": [
    "smalldf2.dtm"
   ]
  },
  {
   "cell_type": "code",
   "execution_count": null,
   "id": "24724ecb-cf62-43bf-b482-bb19dcf26a45",
   "metadata": {},
   "outputs": [],
   "source": [
    "# useless\n",
    "smalldf.plot.scatter('mean', 'DFF');"
   ]
  },
  {
   "cell_type": "code",
   "execution_count": null,
   "id": "4a6d90bd-616e-4a77-8cf9-8987f1c79797",
   "metadata": {},
   "outputs": [],
   "source": [
    "smalldf2['diff'] = smalldf2['mean'] - smalldf2.DFF"
   ]
  },
  {
   "cell_type": "code",
   "execution_count": null,
   "id": "ea69d05f-0a57-4fdb-bde9-45181132b61d",
   "metadata": {},
   "outputs": [],
   "source": [
    "smalldf2"
   ]
  },
  {
   "cell_type": "code",
   "execution_count": null,
   "id": "4cea62ff-8634-40f6-8aca-18bc77667fff",
   "metadata": {},
   "outputs": [],
   "source": [
    "smalldf2.dtypes"
   ]
  },
  {
   "cell_type": "code",
   "execution_count": null,
   "id": "44038b3b-c6fa-4924-abda-7a22af1028b3",
   "metadata": {},
   "outputs": [],
   "source": [
    "\n",
    "import plotly.express as px\n",
    "fig = px.scatter_3d(smalldf2, x='Date', y='contract', z='diff', color='mean', size='DFF')\n",
    "fig.update_layout(title='spreads between FFR and expected FFR: by date, by contract',\n",
    "                  width = 1200,\n",
    "                  height = 1200,\n",
    "                  scene = {\"aspectratio\": {\"x\": 1, \"y\": 1, \"z\": .6}})\n",
    "fig.update_coloraxes(cauto=True)\n",
    "fig.show()"
   ]
  },
  {
   "cell_type": "code",
   "execution_count": null,
   "id": "90ce5857-4978-43dc-aafe-8d8cb7a7ed24",
   "metadata": {},
   "outputs": [],
   "source": [
    "# premium if you're buying the contract (more time you have (orange and yellow) premium for cost of time when you don't know future rates)"
   ]
  },
  {
   "cell_type": "code",
   "execution_count": null,
   "id": "f5dd4677-9528-4354-84b2-f9ff7e195805",
   "metadata": {},
   "outputs": [],
   "source": [
    "smalldf2.Date.dtype"
   ]
  },
  {
   "cell_type": "code",
   "execution_count": null,
   "id": "3ee13c74-bb20-486c-a6f3-7e741a28822a",
   "metadata": {},
   "outputs": [],
   "source": [
    "smalldf2"
   ]
  },
  {
   "cell_type": "markdown",
   "id": "a1a86079-1d16-4542-bd03-b7e81bcefa7a",
   "metadata": {},
   "source": [
    "# Timeseries"
   ]
  },
  {
   "cell_type": "code",
   "execution_count": null,
   "id": "1925a8d8-6adc-425d-9374-8c2f6f33e02a",
   "metadata": {},
   "outputs": [],
   "source": [
    "from statsmodels.tsa.api import VAR"
   ]
  },
  {
   "cell_type": "code",
   "execution_count": null,
   "id": "4c74b128-f119-41a4-987a-43b90e07223e",
   "metadata": {},
   "outputs": [],
   "source": [
    "def plot_series(df, cols=None, title='Title', xlab=None, ylab=None, steps=1):\n",
    "    \n",
    "    # Set figure size to be (18, 9).\n",
    "    plt.figure(figsize=(18,9))\n",
    "    legend_list = []\n",
    "    \n",
    "    # Iterate through each column name.\n",
    "    for col in cols:\n",
    "            \n",
    "        # Generate a line plot of the column name.\n",
    "        # You only have to specify Y, since our\n",
    "        # index will be a datetime index.\n",
    "        plt.plot(smalldf2[col])\n",
    "        legend_list.append(col)\n",
    "        \n",
    "    # Generate title and labels.\n",
    "    plt.title(title, fontsize=26)\n",
    "    plt.xlabel(xlab, fontsize=20)\n",
    "    plt.ylabel(ylab, fontsize=20)\n",
    "    \n",
    "    # Enlarge tick marks.\n",
    "    plt.yticks(fontsize=18)\n",
    "    plt.xticks(df.index[0::steps], fontsize=18)\n",
    "    \n",
    "    plt.legend(legend_list);"
   ]
  },
  {
   "cell_type": "code",
   "execution_count": null,
   "id": "7ea8bb03-a1cf-49f4-8909-849379218acb",
   "metadata": {},
   "outputs": [],
   "source": [
    "'''plot_series(smalldf2,\n",
    "            ['btcopen'],\n",
    "            title=\" price\",\n",
    "            steps=50)\n",
    "'''"
   ]
  },
  {
   "cell_type": "markdown",
   "id": "1d6d6676-06b2-4e3b-a0dd-c8f40602be2a",
   "metadata": {},
   "source": [
    "# Dickey Fuller"
   ]
  },
  {
   "cell_type": "code",
   "execution_count": null,
   "id": "fabba241-d9fa-48c6-9a53-e48963748db8",
   "metadata": {},
   "outputs": [],
   "source": [
    "def interpret_dftest(dftest):\n",
    "    dfoutput = pd.Series(dftest[0:3], index=['Test Statistic','p-value', 'Lag Used'])\n",
    "    return dfoutput"
   ]
  },
  {
   "cell_type": "code",
   "execution_count": null,
   "id": "24a975b8-9acb-48a4-ab92-3390db1b3e14",
   "metadata": {},
   "outputs": [],
   "source": [
    "interpret_dftest(adfuller(smalldf2['btcopen']))"
   ]
  },
  {
   "cell_type": "markdown",
   "id": "49eeccfb-741c-43f5-827c-fdb0417d2c0b",
   "metadata": {},
   "source": [
    "# Regressions\n",
    "This LR is just a placeholder, i don't appreciate the methodology"
   ]
  },
  {
   "cell_type": "code",
   "execution_count": null,
   "id": "fc62449f-ab35-4489-a712-dd232d378058",
   "metadata": {},
   "outputs": [],
   "source": [
    "from sklearn.model_selection import train_test_split, cross_val_score, RandomizedSearchCV\n",
    "from sklearn.linear_model import LinearRegression"
   ]
  },
  {
   "cell_type": "code",
   "execution_count": null,
   "id": "7582b47c-6782-401d-be85-b55fea94e44e",
   "metadata": {},
   "outputs": [],
   "source": [
    "smalldf2"
   ]
  },
  {
   "cell_type": "code",
   "execution_count": null,
   "id": "c2dc0302-a5be-4220-9746-437370bbb1e8",
   "metadata": {},
   "outputs": [],
   "source": [
    "dummies = ['contract']"
   ]
  },
  {
   "cell_type": "code",
   "execution_count": null,
   "id": "924635f8-8a79-4a70-ac75-55d3c004f2b8",
   "metadata": {},
   "outputs": [],
   "source": [
    "smalldf3 = pd.get_dummies(data = smalldf2, columns = dummies, drop_first = True)"
   ]
  },
  {
   "cell_type": "code",
   "execution_count": null,
   "id": "4f27b1f2-853c-4032-a2a1-5fa0fcf0a813",
   "metadata": {},
   "outputs": [],
   "source": [
    "xvars = [i for i in smalldf3.columns if i != 'btcopen' and i != 'Date']"
   ]
  },
  {
   "cell_type": "code",
   "execution_count": null,
   "id": "200efe2c-4d5c-48f4-ba82-ecdfd49bc9b1",
   "metadata": {},
   "outputs": [],
   "source": [
    "X = smalldf3[xvars]\n",
    "y = smalldf3['btcopen']"
   ]
  },
  {
   "cell_type": "code",
   "execution_count": null,
   "id": "fcaff499-df41-49ea-90d7-5ad56350b7e8",
   "metadata": {},
   "outputs": [],
   "source": [
    "X_train, X_test, y_train, y_test = train_test_split(X, y, random_state = 42)"
   ]
  },
  {
   "cell_type": "code",
   "execution_count": null,
   "id": "e6a48aa5-5a12-48aa-a208-eaa951426f31",
   "metadata": {},
   "outputs": [],
   "source": [
    "lr = LinearRegression()\n",
    "\n",
    "lr.fit(X_train, y_train)\n",
    "print(lr.score(X_train, y_train))\n",
    "print(lr.score(X_test, y_test))"
   ]
  },
  {
   "cell_type": "code",
   "execution_count": null,
   "id": "9c924d1b-64ee-4652-983e-d58d618e8a7c",
   "metadata": {},
   "outputs": [],
   "source": [
    "yhat = lr.predict(X)\n",
    "\n",
    "residuals = y - yhat\n",
    "\n",
    "plt.hist(residuals, bins = 50);\n",
    "plt.title('distribution of residuals - histogram');\n",
    "#residuals are.... kind of normal, mean is not 0\n",
    "\n",
    "print(type(y), type(residuals), type(yhat))"
   ]
  },
  {
   "cell_type": "code",
   "execution_count": null,
   "id": "9dd610a0-7b01-4a4f-81d3-1c8eaf48c1ac",
   "metadata": {},
   "outputs": [],
   "source": [
    "sns.residplot(x = yhat,\n",
    "              y = residuals,\n",
    "              lowess = True, #help visualize relationship\n",
    "              line_kws = {'color':'red'})\\\n",
    "    .set(title = 'residuals vs. fits',\n",
    "        xlabel = 'predicted',\n",
    "        ylabel = 'residual');\n",
    "\n",
    "# hmm"
   ]
  },
  {
   "cell_type": "code",
   "execution_count": null,
   "id": "bebfecda-6447-4c92-866a-ec60d9a34ff3",
   "metadata": {},
   "outputs": [],
   "source": []
  },
  {
   "cell_type": "code",
   "execution_count": null,
   "id": "56940493-6d6a-4c2b-8b23-a617f9e15c25",
   "metadata": {},
   "outputs": [],
   "source": []
  }
 ],
 "metadata": {
  "kernelspec": {
   "display_name": "Python 3 (ipykernel)",
   "language": "python",
   "name": "python3"
  },
  "language_info": {
   "codemirror_mode": {
    "name": "ipython",
    "version": 3
   },
   "file_extension": ".py",
   "mimetype": "text/x-python",
   "name": "python",
   "nbconvert_exporter": "python",
   "pygments_lexer": "ipython3",
   "version": "3.9.12"
  }
 },
 "nbformat": 4,
 "nbformat_minor": 5
}
